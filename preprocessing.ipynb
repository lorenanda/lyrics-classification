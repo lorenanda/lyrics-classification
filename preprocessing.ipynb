{
 "metadata": {
  "language_info": {
   "codemirror_mode": {
    "name": "ipython",
    "version": 3
   },
   "file_extension": ".py",
   "mimetype": "text/x-python",
   "name": "python",
   "nbconvert_exporter": "python",
   "pygments_lexer": "ipython3",
   "version": "3.8.3-final"
  },
  "orig_nbformat": 2,
  "kernelspec": {
   "name": "Python 3.8.3 64-bit ('base': conda)",
   "display_name": "Python 3.8.3 64-bit ('base': conda)",
   "metadata": {
    "interpreter": {
     "hash": "d4aeeff72362184356ff95efec6e2b5ccbaa7b7f37995398f9b7e5a680238d50"
    }
   }
  }
 },
 "nbformat": 4,
 "nbformat_minor": 2,
 "cells": [
  {
   "cell_type": "code",
   "execution_count": 1,
   "metadata": {},
   "outputs": [],
   "source": [
    "import pandas as pd\n",
    "import spacy \n",
    "from spacy import displacy\n",
    "from spacy.lang.en.stop_words import STOP_WORDS\n",
    "import texthero as hero\n",
    "import string"
   ]
  },
  {
   "cell_type": "code",
   "execution_count": 2,
   "metadata": {},
   "outputs": [],
   "source": [
    "spacy_en = spacy.load('en_core_web_md')"
   ]
  },
  {
   "cell_type": "code",
   "execution_count": 3,
   "metadata": {},
   "outputs": [
    {
     "output_type": "execute_result",
     "data": {
      "text/plain": [
       "                                   songlink  \\\n",
       "185                Caught Somewhere in Time   \n",
       "186  Number of the Beast (Original Version)   \n",
       "187                          Speed Of Light   \n",
       "188                         Heaven Can Wait   \n",
       "189                 Can I Play with Madness   \n",
       "\n",
       "                                                lyrics       artist  \n",
       "185  If you had the time to lose\\nAn open mind and ...  Iron Maiden  \n",
       "186  \"Woe to you, oh Earth and sea, for the Devil s...  Iron Maiden  \n",
       "187  Another time another place\\nA hollow universe ...  Iron Maiden  \n",
       "188  Can't understand what is happening to me,\\nThi...  Iron Maiden  \n",
       "189  Can I play with madness?\\nGive me the sense to...  Iron Maiden  "
      ],
      "text/html": "<div>\n<style scoped>\n    .dataframe tbody tr th:only-of-type {\n        vertical-align: middle;\n    }\n\n    .dataframe tbody tr th {\n        vertical-align: top;\n    }\n\n    .dataframe thead th {\n        text-align: right;\n    }\n</style>\n<table border=\"1\" class=\"dataframe\">\n  <thead>\n    <tr style=\"text-align: right;\">\n      <th></th>\n      <th>songlink</th>\n      <th>lyrics</th>\n      <th>artist</th>\n    </tr>\n  </thead>\n  <tbody>\n    <tr>\n      <th>185</th>\n      <td>Caught Somewhere in Time</td>\n      <td>If you had the time to lose\\nAn open mind and ...</td>\n      <td>Iron Maiden</td>\n    </tr>\n    <tr>\n      <th>186</th>\n      <td>Number of the Beast (Original Version)</td>\n      <td>\"Woe to you, oh Earth and sea, for the Devil s...</td>\n      <td>Iron Maiden</td>\n    </tr>\n    <tr>\n      <th>187</th>\n      <td>Speed Of Light</td>\n      <td>Another time another place\\nA hollow universe ...</td>\n      <td>Iron Maiden</td>\n    </tr>\n    <tr>\n      <th>188</th>\n      <td>Heaven Can Wait</td>\n      <td>Can't understand what is happening to me,\\nThi...</td>\n      <td>Iron Maiden</td>\n    </tr>\n    <tr>\n      <th>189</th>\n      <td>Can I Play with Madness</td>\n      <td>Can I play with madness?\\nGive me the sense to...</td>\n      <td>Iron Maiden</td>\n    </tr>\n  </tbody>\n</table>\n</div>"
     },
     "metadata": {},
     "execution_count": 3
    }
   ],
   "source": [
    "lyrics_df = pd.read_csv('lyrics_artists.csv')\n",
    "lyrics_df = lyrics_df.drop('Unnamed: 0', axis=1)\n",
    "lyrics_df.tail()"
   ]
  },
  {
   "cell_type": "code",
   "execution_count": 4,
   "metadata": {},
   "outputs": [],
   "source": [
    "encode = {'Metallica':0, 'Iron Maiden':1}\n",
    "lyrics_df['artist_code'] = lyrics_df['artist'].map(encode)"
   ]
  },
  {
   "cell_type": "code",
   "execution_count": 18,
   "metadata": {},
   "outputs": [
    {
     "output_type": "execute_result",
     "data": {
      "text/plain": [
       "                                   songlink  \\\n",
       "185                Caught Somewhere in Time   \n",
       "186  Number of the Beast (Original Version)   \n",
       "187                          Speed Of Light   \n",
       "188                         Heaven Can Wait   \n",
       "189                 Can I Play with Madness   \n",
       "\n",
       "                                                lyrics       artist  \\\n",
       "185  If you had the time to lose\\nAn open mind and ...  Iron Maiden   \n",
       "186  \"Woe to you, oh Earth and sea, for the Devil s...  Iron Maiden   \n",
       "187  Another time another place\\nA hollow universe ...  Iron Maiden   \n",
       "188  Can't understand what is happening to me,\\nThi...  Iron Maiden   \n",
       "189  Can I play with madness?\\nGive me the sense to...  Iron Maiden   \n",
       "\n",
       "     artist_code  \n",
       "185            1  \n",
       "186            1  \n",
       "187            1  \n",
       "188            1  \n",
       "189            1  "
      ],
      "text/html": "<div>\n<style scoped>\n    .dataframe tbody tr th:only-of-type {\n        vertical-align: middle;\n    }\n\n    .dataframe tbody tr th {\n        vertical-align: top;\n    }\n\n    .dataframe thead th {\n        text-align: right;\n    }\n</style>\n<table border=\"1\" class=\"dataframe\">\n  <thead>\n    <tr style=\"text-align: right;\">\n      <th></th>\n      <th>songlink</th>\n      <th>lyrics</th>\n      <th>artist</th>\n      <th>artist_code</th>\n    </tr>\n  </thead>\n  <tbody>\n    <tr>\n      <th>185</th>\n      <td>Caught Somewhere in Time</td>\n      <td>If you had the time to lose\\nAn open mind and ...</td>\n      <td>Iron Maiden</td>\n      <td>1</td>\n    </tr>\n    <tr>\n      <th>186</th>\n      <td>Number of the Beast (Original Version)</td>\n      <td>\"Woe to you, oh Earth and sea, for the Devil s...</td>\n      <td>Iron Maiden</td>\n      <td>1</td>\n    </tr>\n    <tr>\n      <th>187</th>\n      <td>Speed Of Light</td>\n      <td>Another time another place\\nA hollow universe ...</td>\n      <td>Iron Maiden</td>\n      <td>1</td>\n    </tr>\n    <tr>\n      <th>188</th>\n      <td>Heaven Can Wait</td>\n      <td>Can't understand what is happening to me,\\nThi...</td>\n      <td>Iron Maiden</td>\n      <td>1</td>\n    </tr>\n    <tr>\n      <th>189</th>\n      <td>Can I Play with Madness</td>\n      <td>Can I play with madness?\\nGive me the sense to...</td>\n      <td>Iron Maiden</td>\n      <td>1</td>\n    </tr>\n  </tbody>\n</table>\n</div>"
     },
     "metadata": {},
     "execution_count": 18
    }
   ],
   "source": [
    "lyrics_df.tail()"
   ]
  },
  {
   "cell_type": "code",
   "execution_count": 29,
   "metadata": {},
   "outputs": [
    {
     "output_type": "stream",
     "name": "stdout",
     "text": [
      "The similarity between Fade To Black and Speed Of Light is 0.97\n"
     ]
    }
   ],
   "source": [
    "#calculate the similarity between two songs\n",
    "\n",
    "song1 = spacy_en(lyrics_df['lyrics'][0]) #Fade to Black (MT)\n",
    "song2 = spacy_en(lyrics_df['lyrics'][187]) #Speed of Light (IM)\n",
    "print(\"The similarity between\", lyrics_df['songlink'][0], \"and\", lyrics_df['songlink'][187], \"is\", round(song1.similarity(song2),2))"
   ]
  },
  {
   "source": [
    "## Text cleaning\n",
    "- **Stemming:** reduce words to their root, by removing pre-/suffixes (e.g. *walking --> walk*)\n",
    "- **Lemmatization:** reduce words to their root form, beyond pre-/suffixes. (e.g.: *better <- good*)\n",
    "- **Stopwords**\n",
    "- **POS-Tagging:** identify the part-of-speech of the words."
   ],
   "cell_type": "markdown",
   "metadata": {}
  },
  {
   "cell_type": "code",
   "execution_count": 5,
   "metadata": {},
   "outputs": [
    {
     "output_type": "execute_result",
     "data": {
      "text/plain": [
       "               songlink                                             lyrics  \\\n",
       "0         Fade To Black  Life it seems to fade away\\nDrifting further e...   \n",
       "1    Ride The Lightning  Guilty as charged\\nBut damn it, it ain't right...   \n",
       "2  Fight Fire With Fire  Do unto others as they have done unto you\\nBut...   \n",
       "3            Iced Honey  You can't put a butterfly in a jar\\nIf the eff...   \n",
       "4               Battery  Lashing out the action, returning the reaction...   \n",
       "\n",
       "      artist  artist_code                                       lyrics_clean  \n",
       "0  Metallica            0  Life it seems to fade away Drifting further ev...  \n",
       "1  Metallica            0  Guilty as charged But damn it, it ain't right ...  \n",
       "2  Metallica            0  Do unto others as they have done unto you But ...  \n",
       "3  Metallica            0  You can't put a butterfly in a jar If the effo...  \n",
       "4  Metallica            0  Lashing out the action, returning the reaction...  "
      ],
      "text/html": "<div>\n<style scoped>\n    .dataframe tbody tr th:only-of-type {\n        vertical-align: middle;\n    }\n\n    .dataframe tbody tr th {\n        vertical-align: top;\n    }\n\n    .dataframe thead th {\n        text-align: right;\n    }\n</style>\n<table border=\"1\" class=\"dataframe\">\n  <thead>\n    <tr style=\"text-align: right;\">\n      <th></th>\n      <th>songlink</th>\n      <th>lyrics</th>\n      <th>artist</th>\n      <th>artist_code</th>\n      <th>lyrics_clean</th>\n    </tr>\n  </thead>\n  <tbody>\n    <tr>\n      <th>0</th>\n      <td>Fade To Black</td>\n      <td>Life it seems to fade away\\nDrifting further e...</td>\n      <td>Metallica</td>\n      <td>0</td>\n      <td>Life it seems to fade away Drifting further ev...</td>\n    </tr>\n    <tr>\n      <th>1</th>\n      <td>Ride The Lightning</td>\n      <td>Guilty as charged\\nBut damn it, it ain't right...</td>\n      <td>Metallica</td>\n      <td>0</td>\n      <td>Guilty as charged But damn it, it ain't right ...</td>\n    </tr>\n    <tr>\n      <th>2</th>\n      <td>Fight Fire With Fire</td>\n      <td>Do unto others as they have done unto you\\nBut...</td>\n      <td>Metallica</td>\n      <td>0</td>\n      <td>Do unto others as they have done unto you But ...</td>\n    </tr>\n    <tr>\n      <th>3</th>\n      <td>Iced Honey</td>\n      <td>You can't put a butterfly in a jar\\nIf the eff...</td>\n      <td>Metallica</td>\n      <td>0</td>\n      <td>You can't put a butterfly in a jar If the effo...</td>\n    </tr>\n    <tr>\n      <th>4</th>\n      <td>Battery</td>\n      <td>Lashing out the action, returning the reaction...</td>\n      <td>Metallica</td>\n      <td>0</td>\n      <td>Lashing out the action, returning the reaction...</td>\n    </tr>\n  </tbody>\n</table>\n</div>"
     },
     "metadata": {},
     "execution_count": 5
    }
   ],
   "source": [
    "#remove \\n\n",
    "\n",
    "lyrics_df['lyrics_clean'] = lyrics_df['lyrics'].replace(r'\\n',' ', regex=True)\n",
    "lyrics_df.head()"
   ]
  },
  {
   "cell_type": "code",
   "execution_count": 6,
   "metadata": {},
   "outputs": [
    {
     "output_type": "execute_result",
     "data": {
      "text/plain": [
       "               songlink                                             lyrics  \\\n",
       "0         Fade To Black  Life it seems to fade away\\nDrifting further e...   \n",
       "1    Ride The Lightning  Guilty as charged\\nBut damn it, it ain't right...   \n",
       "2  Fight Fire With Fire  Do unto others as they have done unto you\\nBut...   \n",
       "3            Iced Honey  You can't put a butterfly in a jar\\nIf the eff...   \n",
       "4               Battery  Lashing out the action, returning the reaction...   \n",
       "\n",
       "      artist  artist_code                                       lyrics_clean  \n",
       "0  Metallica            0  life seems fade away drifting everyday getting...  \n",
       "1  Metallica            0  guilty charged damn right someone else control...  \n",
       "2  Metallica            0  unto others done unto hell world coming blow u...  \n",
       "3  Metallica            0  put butterfly jar effort high matter catch moo...  \n",
       "4  Metallica            0  lashing action returning reaction weak ripped ...  "
      ],
      "text/html": "<div>\n<style scoped>\n    .dataframe tbody tr th:only-of-type {\n        vertical-align: middle;\n    }\n\n    .dataframe tbody tr th {\n        vertical-align: top;\n    }\n\n    .dataframe thead th {\n        text-align: right;\n    }\n</style>\n<table border=\"1\" class=\"dataframe\">\n  <thead>\n    <tr style=\"text-align: right;\">\n      <th></th>\n      <th>songlink</th>\n      <th>lyrics</th>\n      <th>artist</th>\n      <th>artist_code</th>\n      <th>lyrics_clean</th>\n    </tr>\n  </thead>\n  <tbody>\n    <tr>\n      <th>0</th>\n      <td>Fade To Black</td>\n      <td>Life it seems to fade away\\nDrifting further e...</td>\n      <td>Metallica</td>\n      <td>0</td>\n      <td>life seems fade away drifting everyday getting...</td>\n    </tr>\n    <tr>\n      <th>1</th>\n      <td>Ride The Lightning</td>\n      <td>Guilty as charged\\nBut damn it, it ain't right...</td>\n      <td>Metallica</td>\n      <td>0</td>\n      <td>guilty charged damn right someone else control...</td>\n    </tr>\n    <tr>\n      <th>2</th>\n      <td>Fight Fire With Fire</td>\n      <td>Do unto others as they have done unto you\\nBut...</td>\n      <td>Metallica</td>\n      <td>0</td>\n      <td>unto others done unto hell world coming blow u...</td>\n    </tr>\n    <tr>\n      <th>3</th>\n      <td>Iced Honey</td>\n      <td>You can't put a butterfly in a jar\\nIf the eff...</td>\n      <td>Metallica</td>\n      <td>0</td>\n      <td>put butterfly jar effort high matter catch moo...</td>\n    </tr>\n    <tr>\n      <th>4</th>\n      <td>Battery</td>\n      <td>Lashing out the action, returning the reaction...</td>\n      <td>Metallica</td>\n      <td>0</td>\n      <td>lashing action returning reaction weak ripped ...</td>\n    </tr>\n  </tbody>\n</table>\n</div>"
     },
     "metadata": {},
     "execution_count": 6
    }
   ],
   "source": [
    "# Make lowercase, remove punctuation, stopwords.\n",
    "\n",
    "lyrics_df['lyrics_clean'] = hero.clean(lyrics_df['lyrics_clean'])\n",
    "lyrics_df.head()"
   ]
  },
  {
   "cell_type": "code",
   "execution_count": 9,
   "metadata": {},
   "outputs": [],
   "source": [
    "# save the parsed lyrics to a new file\n",
    "\n",
    "lyrics_df_clean = lyrics_df[['artist','artist_code','lyrics_clean']]\n",
    "lyrics_df_clean.to_csv('lyrics_artists_clean.csv')"
   ]
  }
 ]
}