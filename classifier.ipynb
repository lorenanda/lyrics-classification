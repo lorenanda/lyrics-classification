{
 "metadata": {
  "language_info": {
   "codemirror_mode": {
    "name": "ipython",
    "version": 3
   },
   "file_extension": ".py",
   "mimetype": "text/x-python",
   "name": "python",
   "nbconvert_exporter": "python",
   "pygments_lexer": "ipython3",
   "version": "3.8.3-final"
  },
  "orig_nbformat": 2,
  "kernelspec": {
   "name": "Python 3.8.3 64-bit ('base': conda)",
   "display_name": "Python 3.8.3 64-bit ('base': conda)",
   "metadata": {
    "interpreter": {
     "hash": "d4aeeff72362184356ff95efec6e2b5ccbaa7b7f37995398f9b7e5a680238d50"
    }
   }
  }
 },
 "nbformat": 4,
 "nbformat_minor": 2,
 "cells": [
  {
   "source": [
    "# Classify lyrics"
   ],
   "cell_type": "markdown",
   "metadata": {}
  },
  {
   "cell_type": "code",
   "execution_count": 99,
   "metadata": {},
   "outputs": [],
   "source": [
    "import pandas as pd \n",
    "from sklearn.model_selection import train_test_split\n",
    "from sklearn.feature_extraction.text import CountVectorizer, TfidfVectorizer, TfidfTransformer\n",
    "from nltk.tokenize import RegexpTokenizer\n",
    "from sklearn.naive_bayes import MultinomialNB\n",
    "import nltk\n",
    "from nltk.classify import DecisionTreeClassifier, NaiveBayesClassifier\n",
    "from sklearn import metrics\n",
    "from sklearn.linear_model import LogisticRegression\n",
    "from sklearn.svm import LinearSVC\n",
    "from sklearn.pipeline import Pipeline\n",
    "from sklearn.model_selection import train_test_split, cross_val_score\n",
    "from sklearn.feature_extraction.text import CountVectorizer, TfidfTransformer\n",
    "from sklearn.naive_bayes import MultinomialNB\n",
    "from sklearn.decomposition import LatentDirichletAllocation"
   ]
  },
  {
   "cell_type": "code",
   "execution_count": 40,
   "metadata": {},
   "outputs": [
    {
     "output_type": "execute_result",
     "data": {
      "text/plain": [
       "          artist  artist_code  \\\n",
       "185  Iron Maiden            1   \n",
       "186  Iron Maiden            1   \n",
       "187  Iron Maiden            1   \n",
       "188  Iron Maiden            1   \n",
       "189  Iron Maiden            1   \n",
       "\n",
       "                                          lyrics_clean  \n",
       "185  time lose open mind time choose would care tak...  \n",
       "186  woe oh earth sea devil sends beast wrath knows...  \n",
       "187  another time another place hollow universe spa...  \n",
       "188  understand happening real dream never felt nev...  \n",
       "189  play madness give sense wonder wonder free giv...  "
      ],
      "text/html": "<div>\n<style scoped>\n    .dataframe tbody tr th:only-of-type {\n        vertical-align: middle;\n    }\n\n    .dataframe tbody tr th {\n        vertical-align: top;\n    }\n\n    .dataframe thead th {\n        text-align: right;\n    }\n</style>\n<table border=\"1\" class=\"dataframe\">\n  <thead>\n    <tr style=\"text-align: right;\">\n      <th></th>\n      <th>artist</th>\n      <th>artist_code</th>\n      <th>lyrics_clean</th>\n    </tr>\n  </thead>\n  <tbody>\n    <tr>\n      <th>185</th>\n      <td>Iron Maiden</td>\n      <td>1</td>\n      <td>time lose open mind time choose would care tak...</td>\n    </tr>\n    <tr>\n      <th>186</th>\n      <td>Iron Maiden</td>\n      <td>1</td>\n      <td>woe oh earth sea devil sends beast wrath knows...</td>\n    </tr>\n    <tr>\n      <th>187</th>\n      <td>Iron Maiden</td>\n      <td>1</td>\n      <td>another time another place hollow universe spa...</td>\n    </tr>\n    <tr>\n      <th>188</th>\n      <td>Iron Maiden</td>\n      <td>1</td>\n      <td>understand happening real dream never felt nev...</td>\n    </tr>\n    <tr>\n      <th>189</th>\n      <td>Iron Maiden</td>\n      <td>1</td>\n      <td>play madness give sense wonder wonder free giv...</td>\n    </tr>\n  </tbody>\n</table>\n</div>"
     },
     "metadata": {},
     "execution_count": 40
    }
   ],
   "source": [
    "df = pd.read_csv('lyrics_artists_clean.csv')\n",
    "df = df.drop('Unnamed: 0', axis=1)\n",
    "df.tail()"
   ]
  },
  {
   "cell_type": "code",
   "execution_count": 4,
   "metadata": {},
   "outputs": [],
   "source": [
    "# Split into train and test data\n",
    "\n",
    "X = df['lyrics_clean']\n",
    "y = df['artist_code'] \n",
    "\n",
    "X_train, X_test, y_train, y_test = train_test_split(X, y, test_size=0.2, random_state=42)"
   ]
  },
  {
   "source": [
    "## Count Vectorizer"
   ],
   "cell_type": "markdown",
   "metadata": {}
  },
  {
   "cell_type": "code",
   "execution_count": 11,
   "metadata": {},
   "outputs": [
    {
     "output_type": "execute_result",
     "data": {
      "text/plain": [
       "   109s  abandoned  abates  ablaze  able  abnormal  aboard  absolute  \\\n",
       "0     0          0       0       0     0         0       0         0   \n",
       "1     0          0       0       0     0         0       0         0   \n",
       "2     0          0       0       0     0         0       0         0   \n",
       "3     0          0       0       0     0         0       0         0   \n",
       "4     0          0       0       0     0         0       0         0   \n",
       "\n",
       "   absolutely  abuse  ...  yes  yesterday  yet  yo  yoke  york  young  youth  \\\n",
       "0           0      0  ...    0          0    0   0     0     0      0      0   \n",
       "1           0      0  ...    0          0    0   0     0     0      1      1   \n",
       "2           0      0  ...    0          0    0   0     0     0      0      0   \n",
       "3           0      0  ...    0          0    0   0     0     0      0      0   \n",
       "4           0      0  ...    0          0    0   0     1     0      0      0   \n",
       "\n",
       "   zero  zone  \n",
       "0     0     0  \n",
       "1     0     0  \n",
       "2     0     0  \n",
       "3     0     0  \n",
       "4     0     0  \n",
       "\n",
       "[5 rows x 3115 columns]"
      ],
      "text/html": "<div>\n<style scoped>\n    .dataframe tbody tr th:only-of-type {\n        vertical-align: middle;\n    }\n\n    .dataframe tbody tr th {\n        vertical-align: top;\n    }\n\n    .dataframe thead th {\n        text-align: right;\n    }\n</style>\n<table border=\"1\" class=\"dataframe\">\n  <thead>\n    <tr style=\"text-align: right;\">\n      <th></th>\n      <th>109s</th>\n      <th>abandoned</th>\n      <th>abates</th>\n      <th>ablaze</th>\n      <th>able</th>\n      <th>abnormal</th>\n      <th>aboard</th>\n      <th>absolute</th>\n      <th>absolutely</th>\n      <th>abuse</th>\n      <th>...</th>\n      <th>yes</th>\n      <th>yesterday</th>\n      <th>yet</th>\n      <th>yo</th>\n      <th>yoke</th>\n      <th>york</th>\n      <th>young</th>\n      <th>youth</th>\n      <th>zero</th>\n      <th>zone</th>\n    </tr>\n  </thead>\n  <tbody>\n    <tr>\n      <th>0</th>\n      <td>0</td>\n      <td>0</td>\n      <td>0</td>\n      <td>0</td>\n      <td>0</td>\n      <td>0</td>\n      <td>0</td>\n      <td>0</td>\n      <td>0</td>\n      <td>0</td>\n      <td>...</td>\n      <td>0</td>\n      <td>0</td>\n      <td>0</td>\n      <td>0</td>\n      <td>0</td>\n      <td>0</td>\n      <td>0</td>\n      <td>0</td>\n      <td>0</td>\n      <td>0</td>\n    </tr>\n    <tr>\n      <th>1</th>\n      <td>0</td>\n      <td>0</td>\n      <td>0</td>\n      <td>0</td>\n      <td>0</td>\n      <td>0</td>\n      <td>0</td>\n      <td>0</td>\n      <td>0</td>\n      <td>0</td>\n      <td>...</td>\n      <td>0</td>\n      <td>0</td>\n      <td>0</td>\n      <td>0</td>\n      <td>0</td>\n      <td>0</td>\n      <td>1</td>\n      <td>1</td>\n      <td>0</td>\n      <td>0</td>\n    </tr>\n    <tr>\n      <th>2</th>\n      <td>0</td>\n      <td>0</td>\n      <td>0</td>\n      <td>0</td>\n      <td>0</td>\n      <td>0</td>\n      <td>0</td>\n      <td>0</td>\n      <td>0</td>\n      <td>0</td>\n      <td>...</td>\n      <td>0</td>\n      <td>0</td>\n      <td>0</td>\n      <td>0</td>\n      <td>0</td>\n      <td>0</td>\n      <td>0</td>\n      <td>0</td>\n      <td>0</td>\n      <td>0</td>\n    </tr>\n    <tr>\n      <th>3</th>\n      <td>0</td>\n      <td>0</td>\n      <td>0</td>\n      <td>0</td>\n      <td>0</td>\n      <td>0</td>\n      <td>0</td>\n      <td>0</td>\n      <td>0</td>\n      <td>0</td>\n      <td>...</td>\n      <td>0</td>\n      <td>0</td>\n      <td>0</td>\n      <td>0</td>\n      <td>0</td>\n      <td>0</td>\n      <td>0</td>\n      <td>0</td>\n      <td>0</td>\n      <td>0</td>\n    </tr>\n    <tr>\n      <th>4</th>\n      <td>0</td>\n      <td>0</td>\n      <td>0</td>\n      <td>0</td>\n      <td>0</td>\n      <td>0</td>\n      <td>0</td>\n      <td>0</td>\n      <td>0</td>\n      <td>0</td>\n      <td>...</td>\n      <td>0</td>\n      <td>0</td>\n      <td>0</td>\n      <td>0</td>\n      <td>1</td>\n      <td>0</td>\n      <td>0</td>\n      <td>0</td>\n      <td>0</td>\n      <td>0</td>\n    </tr>\n  </tbody>\n</table>\n<p>5 rows × 3115 columns</p>\n</div>"
     },
     "metadata": {},
     "execution_count": 11
    }
   ],
   "source": [
    "vectorized_lyrics = pd.DataFrame(vectorized_lyrics.todense(), columns=vectorizer.get_feature_names())\n",
    "vectorized_lyrics.head()"
   ]
  },
  {
   "cell_type": "code",
   "execution_count": 46,
   "metadata": {},
   "outputs": [
    {
     "output_type": "execute_result",
     "data": {
      "text/plain": [
       "     109s  abandoned  abates  ablaze  able  abnormal  aboard  absolute  \\\n",
       "147     0          0       0       0     0         0       0         0   \n",
       "148     0          0       0       0     0         0       0         0   \n",
       "149     0          0       0       0     0         0       0         0   \n",
       "150     0          1       0       0     0         0       0         0   \n",
       "151     0          0       0       0     0         0       0         0   \n",
       "\n",
       "     absolutely  abuse  ...  yes  yesterday  yet  yo  yoke  york  young  \\\n",
       "147           0      0  ...    0          0    0   0     0     0      0   \n",
       "148           0      0  ...    0          0    0   0     0     0      2   \n",
       "149           0      0  ...    0          0    0   0     0     0      0   \n",
       "150           0      0  ...    0          0    0   0     0     0      0   \n",
       "151           0      0  ...    0          0    0   0     0     0      0   \n",
       "\n",
       "     youth  zero  zone  \n",
       "147      0     0     0  \n",
       "148      0     0     0  \n",
       "149      0     0     0  \n",
       "150      0     0     0  \n",
       "151      0     0     0  \n",
       "\n",
       "[5 rows x 3115 columns]"
      ],
      "text/html": "<div>\n<style scoped>\n    .dataframe tbody tr th:only-of-type {\n        vertical-align: middle;\n    }\n\n    .dataframe tbody tr th {\n        vertical-align: top;\n    }\n\n    .dataframe thead th {\n        text-align: right;\n    }\n</style>\n<table border=\"1\" class=\"dataframe\">\n  <thead>\n    <tr style=\"text-align: right;\">\n      <th></th>\n      <th>109s</th>\n      <th>abandoned</th>\n      <th>abates</th>\n      <th>ablaze</th>\n      <th>able</th>\n      <th>abnormal</th>\n      <th>aboard</th>\n      <th>absolute</th>\n      <th>absolutely</th>\n      <th>abuse</th>\n      <th>...</th>\n      <th>yes</th>\n      <th>yesterday</th>\n      <th>yet</th>\n      <th>yo</th>\n      <th>yoke</th>\n      <th>york</th>\n      <th>young</th>\n      <th>youth</th>\n      <th>zero</th>\n      <th>zone</th>\n    </tr>\n  </thead>\n  <tbody>\n    <tr>\n      <th>147</th>\n      <td>0</td>\n      <td>0</td>\n      <td>0</td>\n      <td>0</td>\n      <td>0</td>\n      <td>0</td>\n      <td>0</td>\n      <td>0</td>\n      <td>0</td>\n      <td>0</td>\n      <td>...</td>\n      <td>0</td>\n      <td>0</td>\n      <td>0</td>\n      <td>0</td>\n      <td>0</td>\n      <td>0</td>\n      <td>0</td>\n      <td>0</td>\n      <td>0</td>\n      <td>0</td>\n    </tr>\n    <tr>\n      <th>148</th>\n      <td>0</td>\n      <td>0</td>\n      <td>0</td>\n      <td>0</td>\n      <td>0</td>\n      <td>0</td>\n      <td>0</td>\n      <td>0</td>\n      <td>0</td>\n      <td>0</td>\n      <td>...</td>\n      <td>0</td>\n      <td>0</td>\n      <td>0</td>\n      <td>0</td>\n      <td>0</td>\n      <td>0</td>\n      <td>2</td>\n      <td>0</td>\n      <td>0</td>\n      <td>0</td>\n    </tr>\n    <tr>\n      <th>149</th>\n      <td>0</td>\n      <td>0</td>\n      <td>0</td>\n      <td>0</td>\n      <td>0</td>\n      <td>0</td>\n      <td>0</td>\n      <td>0</td>\n      <td>0</td>\n      <td>0</td>\n      <td>...</td>\n      <td>0</td>\n      <td>0</td>\n      <td>0</td>\n      <td>0</td>\n      <td>0</td>\n      <td>0</td>\n      <td>0</td>\n      <td>0</td>\n      <td>0</td>\n      <td>0</td>\n    </tr>\n    <tr>\n      <th>150</th>\n      <td>0</td>\n      <td>1</td>\n      <td>0</td>\n      <td>0</td>\n      <td>0</td>\n      <td>0</td>\n      <td>0</td>\n      <td>0</td>\n      <td>0</td>\n      <td>0</td>\n      <td>...</td>\n      <td>0</td>\n      <td>0</td>\n      <td>0</td>\n      <td>0</td>\n      <td>0</td>\n      <td>0</td>\n      <td>0</td>\n      <td>0</td>\n      <td>0</td>\n      <td>0</td>\n    </tr>\n    <tr>\n      <th>151</th>\n      <td>0</td>\n      <td>0</td>\n      <td>0</td>\n      <td>0</td>\n      <td>0</td>\n      <td>0</td>\n      <td>0</td>\n      <td>0</td>\n      <td>0</td>\n      <td>0</td>\n      <td>...</td>\n      <td>0</td>\n      <td>0</td>\n      <td>0</td>\n      <td>0</td>\n      <td>0</td>\n      <td>0</td>\n      <td>0</td>\n      <td>0</td>\n      <td>0</td>\n      <td>0</td>\n    </tr>\n  </tbody>\n</table>\n<p>5 rows × 3115 columns</p>\n</div>"
     },
     "metadata": {},
     "execution_count": 46
    }
   ],
   "source": [
    "vectorized_lyrics.tail()"
   ]
  },
  {
   "source": [
    "## TF-IDF"
   ],
   "cell_type": "markdown",
   "metadata": {}
  },
  {
   "cell_type": "code",
   "execution_count": 23,
   "metadata": {},
   "outputs": [],
   "source": [
    "transformer = TfidfTransformer()\n",
    "transformer.fit(vectorized_lyrics)\n",
    "transformed_lyrics = transformer.transform(vectorized_lyrics)"
   ]
  },
  {
   "cell_type": "code",
   "execution_count": 24,
   "metadata": {},
   "outputs": [
    {
     "output_type": "execute_result",
     "data": {
      "text/plain": [
       "   109s  abandoned  abates  ablaze  able  abnormal  aboard  absolute  \\\n",
       "0   0.0        0.0     0.0     0.0   0.0       0.0     0.0       0.0   \n",
       "1   0.0        0.0     0.0     0.0   0.0       0.0     0.0       0.0   \n",
       "2   0.0        0.0     0.0     0.0   0.0       0.0     0.0       0.0   \n",
       "3   0.0        0.0     0.0     0.0   0.0       0.0     0.0       0.0   \n",
       "4   0.0        0.0     0.0     0.0   0.0       0.0     0.0       0.0   \n",
       "\n",
       "   absolutely  abuse  ...  yes  yesterday  yet   yo     yoke  york     young  \\\n",
       "0         0.0    0.0  ...  0.0        0.0  0.0  0.0  0.00000   0.0  0.000000   \n",
       "1         0.0    0.0  ...  0.0        0.0  0.0  0.0  0.00000   0.0  0.041055   \n",
       "2         0.0    0.0  ...  0.0        0.0  0.0  0.0  0.00000   0.0  0.000000   \n",
       "3         0.0    0.0  ...  0.0        0.0  0.0  0.0  0.00000   0.0  0.000000   \n",
       "4         0.0    0.0  ...  0.0        0.0  0.0  0.0  0.05775   0.0  0.000000   \n",
       "\n",
       "      youth  zero  zone  \n",
       "0  0.000000   0.0   0.0  \n",
       "1  0.058426   0.0   0.0  \n",
       "2  0.000000   0.0   0.0  \n",
       "3  0.000000   0.0   0.0  \n",
       "4  0.000000   0.0   0.0  \n",
       "\n",
       "[5 rows x 3115 columns]"
      ],
      "text/html": "<div>\n<style scoped>\n    .dataframe tbody tr th:only-of-type {\n        vertical-align: middle;\n    }\n\n    .dataframe tbody tr th {\n        vertical-align: top;\n    }\n\n    .dataframe thead th {\n        text-align: right;\n    }\n</style>\n<table border=\"1\" class=\"dataframe\">\n  <thead>\n    <tr style=\"text-align: right;\">\n      <th></th>\n      <th>109s</th>\n      <th>abandoned</th>\n      <th>abates</th>\n      <th>ablaze</th>\n      <th>able</th>\n      <th>abnormal</th>\n      <th>aboard</th>\n      <th>absolute</th>\n      <th>absolutely</th>\n      <th>abuse</th>\n      <th>...</th>\n      <th>yes</th>\n      <th>yesterday</th>\n      <th>yet</th>\n      <th>yo</th>\n      <th>yoke</th>\n      <th>york</th>\n      <th>young</th>\n      <th>youth</th>\n      <th>zero</th>\n      <th>zone</th>\n    </tr>\n  </thead>\n  <tbody>\n    <tr>\n      <th>0</th>\n      <td>0.0</td>\n      <td>0.0</td>\n      <td>0.0</td>\n      <td>0.0</td>\n      <td>0.0</td>\n      <td>0.0</td>\n      <td>0.0</td>\n      <td>0.0</td>\n      <td>0.0</td>\n      <td>0.0</td>\n      <td>...</td>\n      <td>0.0</td>\n      <td>0.0</td>\n      <td>0.0</td>\n      <td>0.0</td>\n      <td>0.00000</td>\n      <td>0.0</td>\n      <td>0.000000</td>\n      <td>0.000000</td>\n      <td>0.0</td>\n      <td>0.0</td>\n    </tr>\n    <tr>\n      <th>1</th>\n      <td>0.0</td>\n      <td>0.0</td>\n      <td>0.0</td>\n      <td>0.0</td>\n      <td>0.0</td>\n      <td>0.0</td>\n      <td>0.0</td>\n      <td>0.0</td>\n      <td>0.0</td>\n      <td>0.0</td>\n      <td>...</td>\n      <td>0.0</td>\n      <td>0.0</td>\n      <td>0.0</td>\n      <td>0.0</td>\n      <td>0.00000</td>\n      <td>0.0</td>\n      <td>0.041055</td>\n      <td>0.058426</td>\n      <td>0.0</td>\n      <td>0.0</td>\n    </tr>\n    <tr>\n      <th>2</th>\n      <td>0.0</td>\n      <td>0.0</td>\n      <td>0.0</td>\n      <td>0.0</td>\n      <td>0.0</td>\n      <td>0.0</td>\n      <td>0.0</td>\n      <td>0.0</td>\n      <td>0.0</td>\n      <td>0.0</td>\n      <td>...</td>\n      <td>0.0</td>\n      <td>0.0</td>\n      <td>0.0</td>\n      <td>0.0</td>\n      <td>0.00000</td>\n      <td>0.0</td>\n      <td>0.000000</td>\n      <td>0.000000</td>\n      <td>0.0</td>\n      <td>0.0</td>\n    </tr>\n    <tr>\n      <th>3</th>\n      <td>0.0</td>\n      <td>0.0</td>\n      <td>0.0</td>\n      <td>0.0</td>\n      <td>0.0</td>\n      <td>0.0</td>\n      <td>0.0</td>\n      <td>0.0</td>\n      <td>0.0</td>\n      <td>0.0</td>\n      <td>...</td>\n      <td>0.0</td>\n      <td>0.0</td>\n      <td>0.0</td>\n      <td>0.0</td>\n      <td>0.00000</td>\n      <td>0.0</td>\n      <td>0.000000</td>\n      <td>0.000000</td>\n      <td>0.0</td>\n      <td>0.0</td>\n    </tr>\n    <tr>\n      <th>4</th>\n      <td>0.0</td>\n      <td>0.0</td>\n      <td>0.0</td>\n      <td>0.0</td>\n      <td>0.0</td>\n      <td>0.0</td>\n      <td>0.0</td>\n      <td>0.0</td>\n      <td>0.0</td>\n      <td>0.0</td>\n      <td>...</td>\n      <td>0.0</td>\n      <td>0.0</td>\n      <td>0.0</td>\n      <td>0.0</td>\n      <td>0.05775</td>\n      <td>0.0</td>\n      <td>0.000000</td>\n      <td>0.000000</td>\n      <td>0.0</td>\n      <td>0.0</td>\n    </tr>\n  </tbody>\n</table>\n<p>5 rows × 3115 columns</p>\n</div>"
     },
     "metadata": {},
     "execution_count": 24
    }
   ],
   "source": [
    "transformed_lyrics = pd.DataFrame(transformed_lyrics.todense(), columns=vectorized_lyrics.columns, index=vectorized_lyrics.index)\n",
    "transformed_lyrics.head()"
   ]
  },
  {
   "source": [
    "## CLASSIFIERS"
   ],
   "cell_type": "markdown",
   "metadata": {}
  },
  {
   "source": [
    "## Multinomial Naive Bayes Classifier"
   ],
   "cell_type": "markdown",
   "metadata": {}
  },
  {
   "cell_type": "code",
   "execution_count": 91,
   "metadata": {},
   "outputs": [
    {
     "output_type": "stream",
     "name": "stdout",
     "text": [
      "Train score: 0.967\nTest score: 0.684\n"
     ]
    }
   ],
   "source": [
    "cv = CountVectorizer()\n",
    "tf = TfidfTransformer()\n",
    "\n",
    "X_train_cv = cv.fit_transform(X_train)\n",
    "X_train_tf = tf.fit_transform(X_train_cv)\n",
    "\n",
    "X_test_cv = cv.transform(X_test)\n",
    "X_test_tf = tf.transform(X_test_cv)\n",
    "\n",
    "mnb = MultinomialNB()\n",
    "mnb.fit(X_train_tf, y_train)\n",
    "\n",
    "mnb_pred = mnb.predict(X_test_tf.toarray())\n",
    "print(\"Train score:\", round(mnb.score(X_train_tf, y_train), 3))\n",
    "print(\"Test score:\", round(mnb.score(X_test_tf.toarray(), y_test), 3))"
   ]
  }
 ]
}